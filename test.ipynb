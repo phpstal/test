{
 "cells": [
  {
   "cell_type": "code",
   "execution_count": 1,
   "id": "ce69d2ba",
   "metadata": {
    "cellId": "4qv3yj2iriaf4w2af0iqem"
   },
   "outputs": [
    {
     "name": "stdout",
     "output_type": "stream",
     "text": [
      "Hello\n"
     ]
    }
   ],
   "source": [
    "print('Hello')"
   ]
  },
  {
   "cell_type": "code",
   "execution_count": null,
   "id": "56397cca",
   "metadata": {
    "cellId": "weq5p8114ib8g9yb66nl"
   },
   "outputs": [],
   "source": []
  }
 ],
 "metadata": {
  "kernelspec": {
   "display_name": "Yandex DataSphere Kernel",
   "language": "python",
   "name": "python3"
  },
  "language_info": {
   "codemirror_mode": {
    "name": "ipython",
    "version": 3
   },
   "file_extension": ".py",
   "mimetype": "text/x-python",
   "name": "python",
   "nbconvert_exporter": "python",
   "pygments_lexer": "ipython3",
   "version": "3.7.7"
  },
  "notebookId": "80727553-6d1c-4707-8a5d-f5da0094d661",
  "notebookPath": "test/Untitled.ipynb"
 },
 "nbformat": 4,
 "nbformat_minor": 5
}
