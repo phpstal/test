{
  "nbformat" : 4,
  "nbformat_minor" : 5,
  "metadata" : {
    "notebookPath" : "test/Untitled.ipynb",
    "notebookId" : "80727553-6d1c-4707-8a5d-f5da0094d661",
    "kernelspec" : {
      "name" : "python3",
      "description" : "IPython kernel implementation for Yandex DataSphere",
      "spec" : {
        "language" : "python",
        "display_name" : "Yandex DataSphere Kernel",
        "codemirror_mode" : "python",
        "argv" : [ "/bin/true" ],
        "env" : { },
        "help_links" : [ ]
      },
      "resources" : { },
      "display_name" : "Yandex DataSphere Kernel"
    }
  },
  "cells" : [ ]
}